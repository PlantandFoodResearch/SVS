{
 "cells": [
  {
   "cell_type": "code",
   "execution_count": 1,
   "id": "299fc10c-0fa8-4cef-a433-c3595b607671",
   "metadata": {},
   "outputs": [],
   "source": [
    "import dash\n",
    "from dash import dash_table\n",
    "from dash import html\n",
    "from dash import dcc\n",
    "import plotly.graph_objects as go\n",
    "import plotly.express as px\n",
    "import datetime as dt\n",
    "import pandas as pd\n",
    "import numpy as np\n",
    "import matplotlib.pyplot as plt\n",
    "from bisect import bisect_left, bisect_right\n",
    "from jupyter_dash import JupyterDash\n",
    "import dash_bootstrap_components as dbc\n",
    "#from dash.dependencies import Input, Output\n",
    "import cufflinks as cf\n",
    "from plotly.offline import download_plotlyjs, init_notebook_mode, plot, iplot\n",
    "import copy\n",
    "import CropNBalFunctions as cnbf\n",
    "import CropNBalUICompenents as uic\n",
    "#from dash_extensions.enrich import Output, DashProxy, Input, MultiplexerTransform\n",
    "from dash.exceptions import PreventUpdate\n",
    "import os\n",
    "from dash import Dash, dcc, html, Input, Output, State, MATCH, ALL"
   ]
  },
  {
   "cell_type": "code",
   "execution_count": 2,
   "id": "faed795a-bf08-4c8b-ae65-17c7dde54986",
   "metadata": {},
   "outputs": [],
   "source": [
    "CropCoefficients, EndUseCatagoriesDropdown, metFiles, MetDropDown, MonthIndexs = uic.Generalcomponents()"
   ]
  },
  {
   "cell_type": "code",
   "execution_count": 21,
   "id": "60625ac8-5e19-48b8-ad85-4a91a568f3e1",
   "metadata": {},
   "outputs": [
    {
     "name": "stdout",
     "output_type": "stream",
     "text": [
      "Dash app running on http://127.0.0.1:8050/\n"
     ]
    }
   ],
   "source": [
    "ddStyle ={\"height\":\"95%\",\"font-size\":\"95%\",\"--bs-body-color\":\"#e83e8c\"}\n",
    "colStyle = {\"height\":\"95%\"}\n",
    "def CropInputs(pos,EndUseCatagoriesDropdown,disableDates,EDatePHtext,HDatePHtext):\n",
    "    return dbc.Container([\n",
    "    ## Crop Type informaiton\n",
    "    dbc.Row([dbc.Col([dcc.Dropdown(options = EndUseCatagoriesDropdown, placeholder=' Select crop EndUse',\n",
    "                                   style=ddStyle,\n",
    "                                   id={\"pos\":pos,\"Group\":\"Crop\",\"subGroup\":\"Catagory\",\"RetType\":\"value\",\"id\":\"EndUse\"})],\n",
    "                     width=True ,align='center', style = colStyle,\n",
    "                     id={\"pos\":pos,\"Group\":\"Crop\",\"subGroup\":\"Catagory\",\"RetType\":\"children\",\"id\":\"EndUse\"}),\n",
    "             dbc.Col([dcc.Dropdown(options = [], placeholder=' Select \"EndUse\" first' ,\n",
    "                                   #style=ddStyle,\n",
    "                                   id={\"pos\":pos,\"Group\":\"Crop\",\"subGroup\":\"Catagory\",\"RetType\":\"value\",\"id\":\"Group\"})], \n",
    "                      width=3 ,align='center',#style = colStyle,\n",
    "                     id={\"pos\":pos,\"Group\":\"Crop\",\"subGroup\":\"Catagory\",\"RetType\":\"children\",\"id\":\"Group\"}),\n",
    "             dbc.Col([dcc.Dropdown(options = [], placeholder=' Select \"Group\" first',\n",
    "                                   #style=ddStyle,\n",
    "                                   id={\"pos\":pos,\"Group\":\"Crop\",\"subGroup\":\"Catagory\",\"RetType\":\"value\",\"id\":\"Crop\"})], \n",
    "                     width=3 ,align='center',#style = colStyle,\n",
    "                     id={\"pos\":pos,\"Group\":\"Crop\",\"subGroup\":\"Catagory\",\"RetType\":\"children\",\"id\":\"Crop\"}),\n",
    "             dbc.Col([dcc.Dropdown(options = [], placeholder='',\n",
    "                                   #style=ddStyle,\n",
    "                                   id={\"pos\":pos,\"Group\":\"Crop\",\"subGroup\":\"Catagory\",\"RetType\":\"value\",\"id\":\"Type\"})], \n",
    "                     width=3 ,align='center',#style = colStyle,\n",
    "                     id={\"pos\":pos,\"Group\":\"Crop\",\"subGroup\":\"Catagory\",\"RetType\":\"children\",\"id\":\"Type\"})],\n",
    "           style={'height':'9%',\"display\":'flex'})],\n",
    "    style={\"height\": \"100%\"},fluid=True)\n",
    "\n",
    "app = JupyterDash(external_stylesheets=[dbc.themes.SLATE])\n",
    "\n",
    "app.layout = dbc.Card(CropInputs('Previous_',EndUseCatagoriesDropdown,False,'Select Planting Date','Set Planting Date first'),\n",
    "                                             )\n",
    "app.run_server(mode='external')"
   ]
  },
  {
   "cell_type": "code",
   "execution_count": null,
   "id": "4ed6e6d5-586f-4718-93de-fb5979044626",
   "metadata": {},
   "outputs": [],
   "source": [
    "mport dash\n",
    "import dash_core_components as dcc\n",
    "import dash_html_components as html\n",
    "\n",
    "app = dash.Dash()\n",
    "\n",
    "app.layout = html.Div(\n",
    "    dcc.Dropdown(\n",
    "        options=[\n",
    "            {\"label\": \"Item 1\", \"value\": 1},\n",
    "            {\"label\": \"Item 2\", \"value\": 2},\n",
    "            {\"label\": \"Item 3\", \"value\": 3},\n",
    "            {\"label\": \"Item 4\", \"value\": 4},\n",
    "        ],\n",
    "        multi=True,\n",
    "    ),\n",
    "    id=\"wrapper\",\n",
    ")\n",
    "\n",
    "if __name__ == \"__main__\":\n",
    "    app.run_server()\n",
    "style.css\n",
    "\n",
    "#wrapper .Select--multi .Select-value {\n",
    "  background-color: #ff4444;\n",
    "  color: #fff;\n",
    "}\n",
    "\n",
    "#wrapper .VirtualizedSelectFocusedOption {\n",
    "  background-color: #ffeedd;\n",
    "}"
   ]
  }
 ],
 "metadata": {
  "kernelspec": {
   "display_name": "Python 3",
   "language": "python",
   "name": "python3"
  },
  "language_info": {
   "codemirror_mode": {
    "name": "ipython",
    "version": 3
   },
   "file_extension": ".py",
   "mimetype": "text/x-python",
   "name": "python",
   "nbconvert_exporter": "python",
   "pygments_lexer": "ipython3",
   "version": "3.6.13"
  }
 },
 "nbformat": 4,
 "nbformat_minor": 5
}
